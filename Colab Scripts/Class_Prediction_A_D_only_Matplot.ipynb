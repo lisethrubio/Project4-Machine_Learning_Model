{
  "nbformat": 4,
  "nbformat_minor": 0,
  "metadata": {
    "colab": {
      "provenance": [],
      "authorship_tag": "ABX9TyPeNIY05kbJipgmsxd32C9o",
      "include_colab_link": true
    },
    "kernelspec": {
      "name": "python3",
      "display_name": "Python 3"
    },
    "language_info": {
      "name": "python"
    }
  },
  "cells": [
    {
      "cell_type": "markdown",
      "metadata": {
        "id": "view-in-github",
        "colab_type": "text"
      },
      "source": [
        "<a href=\"https://colab.research.google.com/github/lisethrubio/Project4-Machine_Learning_Model/blob/Steven_branch2/Class_Prediction_A_D_only_Matplot.ipynb\" target=\"_parent\"><img src=\"https://colab.research.google.com/assets/colab-badge.svg\" alt=\"Open In Colab\"/></a>"
      ]
    },
    {
      "cell_type": "code",
      "execution_count": 1,
      "metadata": {
        "id": "vHIpAB-MddPc"
      },
      "outputs": [],
      "source": [
        "from sklearn.model_selection import train_test_split\n",
        "from sklearn.preprocessing import StandardScaler, LabelEncoder\n",
        "from sklearn.metrics import confusion_matrix, accuracy_score, classification_report\n",
        "from sklearn import tree\n",
        "import pandas as pd\n",
        "import tensorflow as tf\n",
        "import matplotlib.pyplot as plt\n",
        "import seaborn as sns"
      ]
    },
    {
      "cell_type": "code",
      "source": [
        "# Import the input dataset\n",
        "body_df = pd.read_csv('/content/bodyPerformance.csv')"
      ],
      "metadata": {
        "id": "d0rUlLm1eJli"
      },
      "execution_count": 2,
      "outputs": []
    },
    {
      "cell_type": "code",
      "source": [
        "# Filter the dataset to only keep rows where 'class' is 'A' or 'D'\n",
        "body_df = body_df[body_df['class'].isin(['A', 'D'])]"
      ],
      "metadata": {
        "id": "8MhU-X6ZfzFj"
      },
      "execution_count": 3,
      "outputs": []
    },
    {
      "cell_type": "code",
      "source": [
        "# Encode (convert to dummy variables) the \"gender\" column\n",
        "gender_encoded = pd.get_dummies(body_df['gender'], prefix=\"gender\", dtype=int)"
      ],
      "metadata": {
        "id": "gtrPNinceDhs"
      },
      "execution_count": 4,
      "outputs": []
    },
    {
      "cell_type": "code",
      "source": [
        "# Concatenate the scaled data DataFrame with the \"IMF Country Code\" encoded dummies\n",
        "new_body_df = pd.concat([body_df, gender_encoded], axis=1)"
      ],
      "metadata": {
        "id": "GPgDAF9leBns"
      },
      "execution_count": 5,
      "outputs": []
    },
    {
      "cell_type": "code",
      "source": [
        "# Encode the target variable 'class'\n",
        "label_encoder = LabelEncoder()\n",
        "y = label_encoder.fit_transform(new_body_df[\"class\"].values)\n",
        "\n",
        "# Remove 'class' and 'gender' columns from the features data\n",
        "X = new_body_df.drop(columns=[\"class\", \"gender\"]).values"
      ],
      "metadata": {
        "id": "AkE8CDaqd7je"
      },
      "execution_count": 6,
      "outputs": []
    },
    {
      "cell_type": "code",
      "source": [
        "# Split training/test datasets\n",
        "X_train, X_test, y_train, y_test = train_test_split(X, y, random_state=42, stratify=y)"
      ],
      "metadata": {
        "id": "DAx80UBSd6t0"
      },
      "execution_count": 7,
      "outputs": []
    },
    {
      "cell_type": "code",
      "source": [
        "# Preprocess numerical data for the neural network\n",
        "# Create a StandardScaler instance\n",
        "scaler = StandardScaler()\n",
        "\n",
        "# Fit the StandardScaler\n",
        "X_scaler = scaler.fit(X_train)\n",
        "\n",
        "# Scale the data\n",
        "X_train_scaled = X_scaler.transform(X_train)\n",
        "X_test_scaled = X_scaler.transform(X_test)"
      ],
      "metadata": {
        "id": "sdPk1-W5d0mQ"
      },
      "execution_count": 8,
      "outputs": []
    },
    {
      "cell_type": "code",
      "source": [
        "# Convert labels to one-hot encoding\n",
        "y_train = tf.keras.utils.to_categorical(y_train, num_classes=2)\n",
        "y_test = tf.keras.utils.to_categorical(y_test, num_classes=2)"
      ],
      "metadata": {
        "id": "pZrAd6qXdsuV"
      },
      "execution_count": 9,
      "outputs": []
    },
    {
      "cell_type": "code",
      "source": [
        "# Creating the decision tree classifier instance\n",
        "model = tree.DecisionTreeClassifier()\n",
        "\n",
        "# Fitting the model\n",
        "model = model.fit(X_train_scaled, y_train)\n",
        "\n",
        "# Making predictions using the testing data\n",
        "predictions = model.predict(X_test_scaled)"
      ],
      "metadata": {
        "id": "SfO25Ht9dnKN"
      },
      "execution_count": 10,
      "outputs": []
    },
    {
      "cell_type": "code",
      "source": [
        "# Calculating the confusion matrix\n",
        "cm = confusion_matrix(y_test.argmax(axis=1), predictions.argmax(axis=1))\n",
        "cm_df = pd.DataFrame(\n",
        "    cm, index=[\"Actual A\", \"Actual D\"], columns=[\"Predicted A\", \"Predicted D\"]\n",
        ")"
      ],
      "metadata": {
        "id": "nu6YuaYEdkwo"
      },
      "execution_count": 11,
      "outputs": []
    },
    {
      "cell_type": "code",
      "source": [
        "print(cm_df)"
      ],
      "metadata": {
        "colab": {
          "base_uri": "https://localhost:8080/"
        },
        "id": "euQQpHkDeiCN",
        "outputId": "704f7d20-999b-4625-ab3e-23921adbbbc6"
      },
      "execution_count": 12,
      "outputs": [
        {
          "output_type": "stream",
          "name": "stdout",
          "text": [
            "          Predicted A  Predicted D\n",
            "Actual A          808           29\n",
            "Actual D           50          788\n"
          ]
        }
      ]
    },
    {
      "cell_type": "code",
      "source": [
        "# Plot the confusion matrix using Seaborn\n",
        "plt.figure(figsize=(8, 6))\n",
        "sns.heatmap(cm_df, annot=True, fmt='d', cmap='Blues')\n",
        "plt.title('Confusion Matrix')\n",
        "plt.ylabel('Actual Values')\n",
        "plt.xlabel('Predicted Values')\n",
        "plt.show()"
      ],
      "metadata": {
        "colab": {
          "base_uri": "https://localhost:8080/",
          "height": 564
        },
        "id": "-HgykpZWdivM",
        "outputId": "f4aedd90-6046-47bd-82bd-6cb89c19ed6d"
      },
      "execution_count": 13,
      "outputs": [
        {
          "output_type": "display_data",
          "data": {
            "text/plain": [
              "<Figure size 800x600 with 2 Axes>"
            ],
            "image/png": "[encoded data removed]"
          },
          "metadata": {}
        }
      ]
    },
    {
      "cell_type": "code",
      "source": [
        "# Calculating the accuracy score\n",
        "acc_score = accuracy_score(y_test.argmax(axis=1), predictions.argmax(axis=1))\n",
        "print(f\"Accuracy Score: {acc_score}\")\n",
        "\n",
        "# Classification report\n",
        "print(\"Classification Report:\\n\", classification_report(y_test.argmax(axis=1), predictions.argmax(axis=1), target_names=[\"A\", \"D\"]))\n"
      ],
      "metadata": {
        "colab": {
          "base_uri": "https://localhost:8080/"
        },
        "id": "s8htIxlXdgqX",
        "outputId": "b88e6188-0ec8-4c8a-e06e-05e669e4501f"
      },
      "execution_count": 14,
      "outputs": [
        {
          "output_type": "stream",
          "name": "stdout",
          "text": [
            "Accuracy Score: 0.9528358208955224\n",
            "Classification Report:\n",
            "               precision    recall  f1-score   support\n",
            "\n",
            "           A       0.94      0.97      0.95       837\n",
            "           D       0.96      0.94      0.95       838\n",
            "\n",
            "    accuracy                           0.95      1675\n",
            "   macro avg       0.95      0.95      0.95      1675\n",
            "weighted avg       0.95      0.95      0.95      1675\n",
            "\n"
          ]
        }
      ]
    },
    {
      "cell_type": "code",
      "source": [
        "# Plotting the accuracy score\n",
        "plt.figure(figsize=(6, 4))\n",
        "plt.bar(['Accuracy'], [acc_score], color='green')\n",
        "plt.ylim(0, 1)  # Set y-axis limits to 0-1 for accuracy\n",
        "plt.title('Model Accuracy')\n",
        "plt.ylabel('Accuracy Score')\n",
        "plt.show()"
      ],
      "metadata": {
        "colab": {
          "base_uri": "https://localhost:8080/",
          "height": 391
        },
        "id": "-Hmu2EIyfQG6",
        "outputId": "ef61b88d-85be-4d65-9f09-97e492eec638"
      },
      "execution_count": 15,
      "outputs": [
        {
          "output_type": "display_data",
          "data": {
            "text/plain": [
              "<Figure size 600x400 with 1 Axes>"
            ],
            "image/png": "[encoded data removed]"
          },
          "metadata": {}
        }
      ]
    },
    {
      "cell_type": "code",
      "source": [],
      "metadata": {
        "id": "DfGH3sAOfQiN"
      },
      "execution_count": null,
      "outputs": []
    }
  ]
}