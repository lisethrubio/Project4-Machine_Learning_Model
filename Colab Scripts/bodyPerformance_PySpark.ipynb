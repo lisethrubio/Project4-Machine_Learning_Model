{
  "cells": [
    {
      "cell_type": "markdown",
      "metadata": {
        "id": "view-in-github",
        "colab_type": "text"
      },
      "source": [
        "<a href=\"https://colab.research.google.com/github/lisethrubio/Project4-Machine_Learning_Model/blob/Steven_branch2/bodyPerformance_PySpark.ipynb\" target=\"_parent\"><img src=\"https://colab.research.google.com/assets/colab-badge.svg\" alt=\"Open In Colab\"/></a>"
      ]
    },
    {
      "cell_type": "code",
      "execution_count": 2,
      "metadata": {
        "colab": {
          "base_uri": "https://localhost:8080/"
        },
        "id": "w1m9uEbLTfhq",
        "outputId": "1aeebb2c-af5e-4189-b394-170e7a35f575"
      },
      "outputs": [
        {
          "output_type": "stream",
          "name": "stdout",
          "text": [
            "\r0% [Working]\r            \rHit:1 http://archive.ubuntu.com/ubuntu jammy InRelease\n",
            "\r0% [Waiting for headers] [Connecting to security.ubuntu.com (185.125.190.83)] [Connected to cloud.r-\r                                                                                                    \rHit:2 http://archive.ubuntu.com/ubuntu jammy-updates InRelease\n",
            "\r0% [Waiting for headers] [Connecting to security.ubuntu.com (185.125.190.83)] [Waiting for headers] \r                                                                                                    \rHit:3 https://cloud.r-project.org/bin/linux/ubuntu jammy-cran40/ InRelease\n",
            "\r0% [Waiting for headers] [Connecting to security.ubuntu.com (185.125.190.83)] [Connected to r2u.stat\r                                                                                                    \rHit:4 http://archive.ubuntu.com/ubuntu jammy-backports InRelease\n",
            "Hit:5 https://developer.download.nvidia.com/compute/cuda/repos/ubuntu2204/x86_64  InRelease\n",
            "Get:6 http://security.ubuntu.com/ubuntu jammy-security InRelease [129 kB]\n",
            "Ign:7 https://r2u.stat.illinois.edu/ubuntu jammy InRelease\n",
            "Hit:8 https://r2u.stat.illinois.edu/ubuntu jammy Release\n",
            "Hit:9 https://ppa.launchpadcontent.net/deadsnakes/ppa/ubuntu jammy InRelease\n",
            "Hit:10 https://ppa.launchpadcontent.net/graphics-drivers/ppa/ubuntu jammy InRelease\n",
            "Hit:11 https://ppa.launchpadcontent.net/ubuntugis/ppa/ubuntu jammy InRelease\n",
            "Fetched 129 kB in 2s (78.4 kB/s)\n",
            "Reading package lists... Done\n",
            "W: Skipping acquire of configured file 'main/source/Sources' as repository 'https://r2u.stat.illinois.edu/ubuntu jammy InRelease' does not seem to provide it (sources.list entry misspelt?)\n"
          ]
        }
      ],
      "source": [
        "import os\n",
        "# Find the latest version of spark 3.x  from https://downloads.apache.org/spark/ and enter as the spark version\n",
        "# For example:\n",
        "# spark_version = 'spark-3.5.2'\n",
        "spark_version = 'spark-3.5.2'\n",
        "os.environ['SPARK_VERSION']=spark_version\n",
        "\n",
        "# Install Spark and Java\n",
        "!apt-get update\n",
        "!apt-get install openjdk-11-jdk-headless -qq > /dev/null\n",
        "!wget -q https://downloads.apache.org/spark/$SPARK_VERSION/$SPARK_VERSION-bin-hadoop3.tgz\n",
        "!tar xf $SPARK_VERSION-bin-hadoop3.tgz\n",
        "!pip install -q findspark\n",
        "\n",
        "# Set Environment Variables\n",
        "os.environ[\"JAVA_HOME\"] = \"/usr/lib/jvm/java-11-openjdk-amd64\"\n",
        "os.environ[\"SPARK_HOME\"] = f\"/content/{spark_version}-bin-hadoop3\"\n",
        "\n",
        "# Start a SparkSession\n",
        "import findspark\n",
        "findspark.init()"
      ]
    },
    {
      "cell_type": "code",
      "execution_count": 3,
      "metadata": {
        "id": "wdpzXrYLTgcq"
      },
      "outputs": [],
      "source": [
        "# Import packages\n",
        "from pyspark.sql import SparkSession\n",
        "import time\n",
        "\n",
        "# Create a SparkSession\n",
        "spark = SparkSession.builder\\\n",
        "    .appName(\"SparkSQL\")\\\n",
        "    .config(\"spark.sql.debug.maxToStringFields\", 2000)\\\n",
        "    .config(\"spark.driver.memory\", \"2g\")\\\n",
        "    .getOrCreate()"
      ]
    },
    {
      "cell_type": "code",
      "execution_count": 4,
      "metadata": {
        "colab": {
          "base_uri": "https://localhost:8080/"
        },
        "id": "SyGdKF4mTguN",
        "outputId": "0c4b6593-4db6-4483-82cb-640bfda2c608"
      },
      "outputs": [
        {
          "output_type": "stream",
          "name": "stdout",
          "text": [
            "+----+------+---------+---------+----------+---------+--------+---------+-----------------------+--------------+-------------+-----+\n",
            "| age|gender|height_cm|weight_kg|body fat_%|diastolic|systolic|gripForce|sit and bend forward_cm|sit-ups counts|broad jump_cm|class|\n",
            "+----+------+---------+---------+----------+---------+--------+---------+-----------------------+--------------+-------------+-----+\n",
            "|27.0|     M|    172.3|    75.24|      21.3|     80.0|   130.0|     54.9|                   18.4|          60.0|        217.0|    C|\n",
            "|25.0|     M|    165.0|     55.8|      15.7|     77.0|   126.0|     36.4|                   16.3|          53.0|        229.0|    A|\n",
            "|31.0|     M|    179.6|     78.0|      20.1|     92.0|   152.0|     44.8|                   12.0|          49.0|        181.0|    C|\n",
            "|32.0|     M|    174.5|     71.1|      18.4|     76.0|   147.0|     41.4|                   15.2|          53.0|        219.0|    B|\n",
            "|28.0|     M|    173.8|     67.7|      17.1|     70.0|   127.0|     43.5|                   27.1|          45.0|        217.0|    B|\n",
            "|36.0|     F|    165.4|     55.4|      22.0|     64.0|   119.0|     23.8|                   21.0|          27.0|        153.0|    B|\n",
            "|42.0|     F|    164.5|     63.7|      32.2|     72.0|   135.0|     22.7|                    0.8|          18.0|        146.0|    D|\n",
            "|33.0|     M|    174.9|     77.2|      36.9|     84.0|   137.0|     45.9|                   12.3|          42.0|        234.0|    B|\n",
            "|54.0|     M|    166.8|     67.5|      27.6|     85.0|   165.0|     40.4|                   18.6|          34.0|        148.0|    C|\n",
            "|28.0|     M|    185.0|     84.6|      14.4|     81.0|   156.0|     57.9|                   12.1|          55.0|        213.0|    B|\n",
            "|42.0|     M|    169.2|     65.4|      19.3|     63.0|   110.0|     43.5|                   16.0|          68.0|        211.0|    A|\n",
            "|57.0|     F|    153.0|     49.0|      20.9|     69.0|   106.0|     21.5|                   30.0|           0.0|         90.0|    D|\n",
            "|27.0|     F|    156.0|     53.9|      35.5|     69.0|   116.0|     23.1|                   13.1|          28.0|        144.0|    C|\n",
            "|22.0|     M|    175.7|     67.9|      11.3|     71.0|   103.0|     52.5|                   19.2|          55.0|        232.0|    C|\n",
            "|24.0|     M|    181.0|     84.4|      20.4|     80.0|   120.0|     48.9|                    7.2|          54.0|        213.0|    C|\n",
            "|45.0|     F|    159.0|     63.1|      30.9|     93.0|   144.0|     34.1|                   19.0|          30.0|        155.0|    A|\n",
            "|25.0|     F|    164.2|     66.6|      30.2|     82.0|   120.0|     25.7|                   22.9|          39.0|        178.0|    C|\n",
            "|26.0|     M|    179.9|     71.5|       9.7|     64.0|   135.0|     59.6|                   17.8|          61.0|        239.0|    A|\n",
            "|26.0|     M|    169.2|     70.6|      21.0|     63.0|   129.0|     41.3|                   15.1|          53.0|        225.0|    B|\n",
            "|21.0|     F|    162.7|     47.2|      18.9|     78.0|   133.0|     25.4|                   20.5|          36.0|        137.0|    B|\n",
            "+----+------+---------+---------+----------+---------+--------+---------+-----------------------+--------------+-------------+-----+\n",
            "only showing top 20 rows\n",
            "\n"
          ]
        }
      ],
      "source": [
        "# Read in data from bodyPerformance.csv\n",
        "from pyspark import SparkFiles\n",
        "csv = \"/content/bodyPerformance.csv\"\n",
        "spark.sparkContext.addFile(csv)\n",
        "df = spark.read.csv(SparkFiles.get(\"bodyPerformance.csv\"), sep=\",\", header=True)\n",
        "df.show()"
      ]
    },
    {
      "cell_type": "code",
      "source": [
        "# Rename the column to remove spaces and special characters\n",
        "df = df.withColumnRenamed(\"body fat_%\", \"body_fat_percent\") \\\n",
        "       .withColumnRenamed(\"sit and bend forward_cm\", \"sit_and_bend_forward_cm\") \\\n",
        "       .withColumnRenamed(\"sit-ups counts\", \"sit_ups_counts\") \\\n",
        "       .withColumnRenamed(\"broad jump_cm\", \"broad_jump_cm\")\n",
        "df.show()"
      ],
      "metadata": {
        "colab": {
          "base_uri": "https://localhost:8080/"
        },
        "id": "yG7cVKCnRBK3",
        "outputId": "9f815e7e-8f24-4940-87f9-0a726cec2c36"
      },
      "execution_count": 5,
      "outputs": [
        {
          "output_type": "stream",
          "name": "stdout",
          "text": [
            "+----+------+---------+---------+----------------+---------+--------+---------+-----------------------+--------------+-------------+-----+\n",
            "| age|gender|height_cm|weight_kg|body_fat_percent|diastolic|systolic|gripForce|sit_and_bend_forward_cm|sit_ups_counts|broad_jump_cm|class|\n",
            "+----+------+---------+---------+----------------+---------+--------+---------+-----------------------+--------------+-------------+-----+\n",
            "|27.0|     M|    172.3|    75.24|            21.3|     80.0|   130.0|     54.9|                   18.4|          60.0|        217.0|    C|\n",
            "|25.0|     M|    165.0|     55.8|            15.7|     77.0|   126.0|     36.4|                   16.3|          53.0|        229.0|    A|\n",
            "|31.0|     M|    179.6|     78.0|            20.1|     92.0|   152.0|     44.8|                   12.0|          49.0|        181.0|    C|\n",
            "|32.0|     M|    174.5|     71.1|            18.4|     76.0|   147.0|     41.4|                   15.2|          53.0|        219.0|    B|\n",
            "|28.0|     M|    173.8|     67.7|            17.1|     70.0|   127.0|     43.5|                   27.1|          45.0|        217.0|    B|\n",
            "|36.0|     F|    165.4|     55.4|            22.0|     64.0|   119.0|     23.8|                   21.0|          27.0|        153.0|    B|\n",
            "|42.0|     F|    164.5|     63.7|            32.2|     72.0|   135.0|     22.7|                    0.8|          18.0|        146.0|    D|\n",
            "|33.0|     M|    174.9|     77.2|            36.9|     84.0|   137.0|     45.9|                   12.3|          42.0|        234.0|    B|\n",
            "|54.0|     M|    166.8|     67.5|            27.6|     85.0|   165.0|     40.4|                   18.6|          34.0|        148.0|    C|\n",
            "|28.0|     M|    185.0|     84.6|            14.4|     81.0|   156.0|     57.9|                   12.1|          55.0|        213.0|    B|\n",
            "|42.0|     M|    169.2|     65.4|            19.3|     63.0|   110.0|     43.5|                   16.0|          68.0|        211.0|    A|\n",
            "|57.0|     F|    153.0|     49.0|            20.9|     69.0|   106.0|     21.5|                   30.0|           0.0|         90.0|    D|\n",
            "|27.0|     F|    156.0|     53.9|            35.5|     69.0|   116.0|     23.1|                   13.1|          28.0|        144.0|    C|\n",
            "|22.0|     M|    175.7|     67.9|            11.3|     71.0|   103.0|     52.5|                   19.2|          55.0|        232.0|    C|\n",
            "|24.0|     M|    181.0|     84.4|            20.4|     80.0|   120.0|     48.9|                    7.2|          54.0|        213.0|    C|\n",
            "|45.0|     F|    159.0|     63.1|            30.9|     93.0|   144.0|     34.1|                   19.0|          30.0|        155.0|    A|\n",
            "|25.0|     F|    164.2|     66.6|            30.2|     82.0|   120.0|     25.7|                   22.9|          39.0|        178.0|    C|\n",
            "|26.0|     M|    179.9|     71.5|             9.7|     64.0|   135.0|     59.6|                   17.8|          61.0|        239.0|    A|\n",
            "|26.0|     M|    169.2|     70.6|            21.0|     63.0|   129.0|     41.3|                   15.1|          53.0|        225.0|    B|\n",
            "|21.0|     F|    162.7|     47.2|            18.9|     78.0|   133.0|     25.4|                   20.5|          36.0|        137.0|    B|\n",
            "+----+------+---------+---------+----------------+---------+--------+---------+-----------------------+--------------+-------------+-----+\n",
            "only showing top 20 rows\n",
            "\n"
          ]
        }
      ]
    },
    {
      "cell_type": "code",
      "execution_count": 8,
      "metadata": {
        "id": "SDIRdbad1r2X"
      },
      "outputs": [],
      "source": [
        "# Create a temporary view\n",
        "df.createOrReplaceTempView('health')"
      ]
    },
    {
      "cell_type": "code",
      "execution_count": 9,
      "metadata": {
        "colab": {
          "base_uri": "https://localhost:8080/"
        },
        "id": "daHsHUbSTzaj",
        "outputId": "988b85b3-47bb-444d-b24e-c49e42388044"
      },
      "outputs": [
        {
          "output_type": "stream",
          "name": "stdout",
          "text": [
            "+-----+---------------------+-----------------+------------------+\n",
            "|class|avg(body_fat_percent)|   avg(diastolic)|     avg(systolic)|\n",
            "+-----+---------------------+-----------------+------------------+\n",
            "|    B|   22.039980785778287|78.65646847923514|130.63934867045117|\n",
            "|    D|   27.735432430576317|80.07653030755449|131.08450283666767|\n",
            "|    C|   22.644563855479248|  78.550671842341| 129.9253508510003|\n",
            "|    A|    20.53915947879328|77.90334528076464| 129.2900238948626|\n",
            "+-----+---------------------+-----------------+------------------+\n",
            "\n",
            "--- 3.190762996673584 seconds ---\n"
          ]
        }
      ],
      "source": [
        "# Run a sql query that groups the data on class, showing body fat and blood pressure\n",
        "start_time = time.time()\n",
        "\n",
        "spark.sql(\"\"\"select class, avg(body_fat_percent), avg(diastolic), avg(systolic) from health group by 1\"\"\").show()\n",
        "\n",
        "print(\"--- %s seconds ---\" % (time.time() - start_time))"
      ]
    },
    {
      "cell_type": "code",
      "execution_count": 10,
      "metadata": {
        "id": "EVQQPzgiUgTg"
      },
      "outputs": [],
      "source": [
        "# Write out the data in parquet format\n",
        "df.write.parquet('parquet_health', mode='overwrite')"
      ]
    },
    {
      "cell_type": "code",
      "execution_count": 11,
      "metadata": {
        "id": "1fjWZBkMUuIQ"
      },
      "outputs": [],
      "source": [
        "# Read in our new parquet formatted data\n",
        "p_df=spark.read.parquet('parquet_health')"
      ]
    },
    {
      "cell_type": "code",
      "execution_count": 12,
      "metadata": {
        "id": "O9Vj-1tAVMxZ"
      },
      "outputs": [],
      "source": [
        "# A parquet formatted DataFrame has all the same methods as a row-based dataframe\n",
        "# We can convert the dataframe to a view.\n",
        "p_df.createOrReplaceTempView('p_health')"
      ]
    },
    {
      "cell_type": "code",
      "execution_count": 13,
      "metadata": {
        "colab": {
          "base_uri": "https://localhost:8080/"
        },
        "id": "W1upPNu4VFnm",
        "outputId": "f3d2a39e-ba79-4b78-c8f3-25aaf0830312"
      },
      "outputs": [
        {
          "output_type": "stream",
          "name": "stdout",
          "text": [
            "+-----+---------------------+-----------------+------------------+\n",
            "|class|avg(body_fat_percent)|   avg(diastolic)|     avg(systolic)|\n",
            "+-----+---------------------+-----------------+------------------+\n",
            "|    B|   22.039980785778287|78.65646847923514|130.63934867045117|\n",
            "|    D|   27.735432430576317|80.07653030755449|131.08450283666767|\n",
            "|    C|   22.644563855479248|  78.550671842341| 129.9253508510003|\n",
            "|    A|    20.53915947879328|77.90334528076464| 129.2900238948626|\n",
            "+-----+---------------------+-----------------+------------------+\n",
            "\n",
            "--- 1.9916579723358154 seconds ---\n"
          ]
        }
      ],
      "source": [
        "start_time = time.time()\n",
        "\n",
        "spark.sql(\"\"\"select class, avg(body_fat_percent), avg(diastolic), avg(systolic) from p_health group by 1\"\"\").show()\n",
        "\n",
        "print(\"--- %s seconds ---\" % (time.time() - start_time))"
      ]
    },
    {
      "cell_type": "code",
      "execution_count": 14,
      "metadata": {
        "colab": {
          "base_uri": "https://localhost:8080/"
        },
        "id": "dYigWiix1_vm",
        "outputId": "4f0db805-d051-483d-f023-5351b7a80f6b"
      },
      "outputs": [
        {
          "output_type": "stream",
          "name": "stdout",
          "text": [
            "+-----+-----------------+----------------------------+-------------------+------------------+\n",
            "|class|   avg(gripForce)|avg(sit_and_bend_forward_cm)|avg(sit_ups_counts)|avg(broad_jump_cm)|\n",
            "+-----+-----------------+----------------------------+-------------------+------------------+\n",
            "|    B|37.91043621153271|           17.46758589781895|  42.63919928293994|195.33256647744247|\n",
            "|    D|34.74774559570019|           7.590259779038491| 29.881337712750078|173.82084204240073|\n",
            "|    C|36.58266348163633|            14.3906449686474|  38.72021498954912| 188.6279486413855|\n",
            "|    A| 38.6157228195937|           21.39177718040618|  47.84826762246117|202.74402628434888|\n",
            "+-----+-----------------+----------------------------+-------------------+------------------+\n",
            "\n",
            "--- 1.2842769622802734 seconds ---\n"
          ]
        }
      ],
      "source": [
        "# Run a sql query that groups the data on class, showing exercise scores\n",
        "start_time = time.time()\n",
        "\n",
        "spark.sql(\"\"\"select class, avg(gripForce), avg(sit_and_bend_forward_cm), avg(sit_ups_counts), avg(broad_jump_cm) from health group by 1\"\"\").show()\n",
        "\n",
        "print(\"--- %s seconds ---\" % (time.time() - start_time))"
      ]
    },
    {
      "cell_type": "code",
      "execution_count": 15,
      "metadata": {
        "id": "9652Mii42hya",
        "colab": {
          "base_uri": "https://localhost:8080/"
        },
        "outputId": "a9cad0df-f258-489e-8789-306055b7cfc7"
      },
      "outputs": [
        {
          "output_type": "stream",
          "name": "stdout",
          "text": [
            "+-----+-----------------+----------------------------+-------------------+------------------+\n",
            "|class|   avg(gripForce)|avg(sit_and_bend_forward_cm)|avg(sit_ups_counts)|avg(broad_jump_cm)|\n",
            "+-----+-----------------+----------------------------+-------------------+------------------+\n",
            "|    B|37.91043621153271|           17.46758589781895|  42.63919928293994|195.33256647744247|\n",
            "|    D|34.74774559570019|           7.590259779038491| 29.881337712750078|173.82084204240073|\n",
            "|    C|36.58266348163633|            14.3906449686474|  38.72021498954912| 188.6279486413855|\n",
            "|    A| 38.6157228195937|           21.39177718040618|  47.84826762246117|202.74402628434888|\n",
            "+-----+-----------------+----------------------------+-------------------+------------------+\n",
            "\n",
            "--- 1.8317821025848389 seconds ---\n"
          ]
        }
      ],
      "source": [
        "start_time = time.time()\n",
        "\n",
        "spark.sql(\"\"\"select class, avg(gripForce), avg(sit_and_bend_forward_cm), avg(sit_ups_counts), avg(broad_jump_cm) from p_health group by 1\"\"\").show()\n",
        "\n",
        "print(\"--- %s seconds ---\" % (time.time() - start_time))"
      ]
    },
    {
      "cell_type": "code",
      "source": [],
      "metadata": {
        "id": "VLD1WmpeVx58"
      },
      "execution_count": null,
      "outputs": []
    }
  ],
  "metadata": {
    "colab": {
      "provenance": [],
      "include_colab_link": true
    },
    "kernelspec": {
      "display_name": "Python 3 (ipykernel)",
      "language": "python",
      "name": "python3"
    },
    "language_info": {
      "codemirror_mode": {
        "name": "ipython",
        "version": 3
      },
      "file_extension": ".py",
      "mimetype": "text/x-python",
      "name": "python",
      "nbconvert_exporter": "python",
      "pygments_lexer": "ipython3",
      "version": "3.10.4"
    }
  },
  "nbformat": 4,
  "nbformat_minor": 0
}